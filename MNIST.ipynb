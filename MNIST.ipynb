{
 "cells": [
  {
   "cell_type": "code",
   "execution_count": null,
   "id": "d3d18065",
   "metadata": {},
   "outputs": [],
   "source": [
    "# MNIST - https://www.kaggle.com/datasets/hojjatk/mnist-dataset\n",
    "data_dir = '/Users/rytis/Desktop/EU_parama/data/mnist/'"
   ]
  },
  {
   "cell_type": "code",
   "execution_count": null,
   "id": "c86c3d86",
   "metadata": {},
   "outputs": [],
   "source": [
    "import numpy as np\n",
    "from array import array\n",
    "import struct\n",
    "from os.path  import join\n",
    "import random\n",
    "import matplotlib.pyplot as plt"
   ]
  },
  {
   "cell_type": "code",
   "execution_count": null,
   "id": "6cae4133",
   "metadata": {},
   "outputs": [],
   "source": [
    "class MnistDataloader(object):\n",
    "    def __init__(self, training_images_filepath,training_labels_filepath,\n",
    "                 test_images_filepath, test_labels_filepath):\n",
    "        self.training_images_filepath = training_images_filepath\n",
    "        self.training_labels_filepath = training_labels_filepath\n",
    "        self.test_images_filepath = test_images_filepath\n",
    "        self.test_labels_filepath = test_labels_filepath\n",
    "    \n",
    "    def read_images_labels(self, images_filepath, labels_filepath):        \n",
    "        labels = []\n",
    "        with open(labels_filepath, 'rb') as file:\n",
    "            magic, size = struct.unpack(\">II\", file.read(8))\n",
    "            if magic != 2049:\n",
    "                raise ValueError('Magic number mismatch, expected 2049, got {}'.format(magic))\n",
    "            labels = array(\"B\", file.read())        \n",
    "        \n",
    "        with open(images_filepath, 'rb') as file:\n",
    "            magic, size, rows, cols = struct.unpack(\">IIII\", file.read(16))\n",
    "            if magic != 2051:\n",
    "                raise ValueError('Magic number mismatch, expected 2051, got {}'.format(magic))\n",
    "            image_data = array(\"B\", file.read())        \n",
    "        images = []\n",
    "        for i in range(size):\n",
    "            images.append([0] * rows * cols)\n",
    "        for i in range(size):\n",
    "            img = np.array(image_data[i * rows * cols:(i + 1) * rows * cols])\n",
    "            img = img.reshape(28, 28)\n",
    "            images[i][:] = img            \n",
    "        \n",
    "        return images, labels\n",
    "            \n",
    "    def load_data(self):\n",
    "        x_train, y_train = self.read_images_labels(self.training_images_filepath, self.training_labels_filepath)\n",
    "        x_test, y_test = self.read_images_labels(self.test_images_filepath, self.test_labels_filepath)\n",
    "        return (x_train, y_train),(x_test, y_test)     "
   ]
  },
  {
   "cell_type": "code",
   "execution_count": null,
   "id": "4e5a1010",
   "metadata": {},
   "outputs": [],
   "source": [
    "input_path = data_dir\n",
    "training_images_filepath = join(input_path, 'train-images-idx3-ubyte/train-images-idx3-ubyte')\n",
    "training_labels_filepath = join(input_path, 'train-labels-idx1-ubyte/train-labels-idx1-ubyte')\n",
    "test_images_filepath = join(input_path, 't10k-images-idx3-ubyte/t10k-images-idx3-ubyte')\n",
    "test_labels_filepath = join(input_path, 't10k-labels-idx1-ubyte/t10k-labels-idx1-ubyte')"
   ]
  },
  {
   "cell_type": "code",
   "execution_count": null,
   "id": "9af66dc6",
   "metadata": {},
   "outputs": [],
   "source": [
    "def show_images(images, title_texts):\n",
    "    cols = 5\n",
    "    rows = int(len(images)/cols) + 1\n",
    "    plt.figure(figsize=(30,20))\n",
    "    index = 1    \n",
    "    for x in zip(images, title_texts):        \n",
    "        image = x[0]        \n",
    "        title_text = x[1]\n",
    "        plt.subplot(rows, cols, index)        \n",
    "        plt.imshow(image, cmap='viridis')\n",
    "        if (title_text != ''):\n",
    "            plt.title(title_text, fontsize = 15);        \n",
    "        index += 1"
   ]
  },
  {
   "cell_type": "code",
   "execution_count": null,
   "id": "bd9a351f",
   "metadata": {},
   "outputs": [],
   "source": [
    "mnist_dataloader = MnistDataloader(training_images_filepath, training_labels_filepath, test_images_filepath, test_labels_filepath)\n",
    "(x_train, y_train), (x_test, y_test) = mnist_dataloader.load_data()"
   ]
  },
  {
   "cell_type": "code",
   "execution_count": null,
   "id": "7fb1250d",
   "metadata": {},
   "outputs": [],
   "source": [
    "images_show = []\n",
    "titles_show = []\n",
    "for i in range(0, 5):\n",
    "    r = random.randint(1, 60000)\n",
    "    images_show.append(x_train[r])\n",
    "    titles_show.append('training image [' + str(r) + '] = ' + str(y_train[r]))    \n",
    "\n",
    "for i in range(0, 5):\n",
    "    r = random.randint(1, 10000)\n",
    "    images_show.append(x_test[r])        \n",
    "    titles_show.append('test image [' + str(r) + '] = ' + str(y_test[r]))    \n",
    "\n",
    "show_images(images_show, titles_show)"
   ]
  },
  {
   "cell_type": "code",
   "execution_count": null,
   "id": "677d4a13",
   "metadata": {},
   "outputs": [],
   "source": [
    "def plot_distribution(subset_name, class_counts, class_labels):\n",
    "    plt.figure(figsize=(10, 6))\n",
    "\n",
    "    # Add grid lines on x, y\n",
    "    plt.grid(axis='x', linestyle='--', alpha=0.5)\n",
    "    plt.grid(axis='y', linestyle='--', alpha=0.5)\n",
    "\n",
    "    # Create a bar plot\n",
    "    bars = plt.bar(class_labels, class_counts)\n",
    "\n",
    "    # Add count text on top of the bars\n",
    "    for bar, count in zip(bars, class_counts):\n",
    "        plt.text(bar.get_x() + bar.get_width() / 2, count, str(count),\n",
    "                 ha='center', va='bottom')\n",
    "\n",
    "    plt.xticks(class_labels)\n",
    "    plt.xlabel(\"Class\")\n",
    "    plt.ylabel(\"Count\")\n",
    "    plt.title(f\"{subset_name} class distribution\")\n",
    "    plt.show()"
   ]
  },
  {
   "cell_type": "code",
   "execution_count": null,
   "id": "afdceb85",
   "metadata": {},
   "outputs": [],
   "source": [
    "# Class distribution for train subset\n",
    "train_class_counts = np.bincount(y_train)\n",
    "train_class_labels = np.unique(y_train)\n",
    "plot_distribution('Train', train_class_counts, train_class_labels)"
   ]
  },
  {
   "cell_type": "code",
   "execution_count": null,
   "id": "5addc516",
   "metadata": {},
   "outputs": [],
   "source": [
    "# Class distribution for test subset\n",
    "test_class_counts = np.bincount(y_test)\n",
    "test_class_labels = np.unique(y_test)\n",
    "plot_distribution('Test', test_class_counts, test_class_labels)"
   ]
  },
  {
   "cell_type": "code",
   "execution_count": null,
   "id": "dbab3755",
   "metadata": {},
   "outputs": [],
   "source": [
    "# Feature analysis (pixel intensity distribution for the whole dataset)\n",
    "def draw_pixel_distribution(subset_name, data, grouping=30):\n",
    "    plt.figure(figsize=(10, 6))\n",
    "    plt.hist(data, bins=grouping, range=(0, 256))\n",
    "    plt.xlabel(\"Pixel Intensity\")\n",
    "    plt.ylabel(\"Frequency\")\n",
    "    plt.title(f\"{subset_name} pixel intensity distribution [bins={grouping}]\")\n",
    "    # Add grid lines on x, y\n",
    "    plt.grid(axis='x', linestyle='--', alpha=0.5)\n",
    "    plt.grid(axis='y', linestyle='--', alpha=0.5)\n",
    "    plt.show()"
   ]
  },
  {
   "cell_type": "code",
   "execution_count": null,
   "id": "b9d93660",
   "metadata": {},
   "outputs": [],
   "source": [
    "# cast list of list to np.array\n",
    "x_train = [np.array(sublist) for sublist in x_train]\n",
    "x_test = [np.array(sublist) for sublist in x_test]"
   ]
  },
  {
   "cell_type": "code",
   "execution_count": null,
   "id": "e53be77e",
   "metadata": {},
   "outputs": [],
   "source": [
    "# draw pixel distribution for train\n",
    "draw_pixel_distribution('Train', np.concatenate(x_train).flatten())"
   ]
  },
  {
   "cell_type": "code",
   "execution_count": null,
   "id": "719260c3",
   "metadata": {},
   "outputs": [],
   "source": [
    "# draw pixel distribution for test\n",
    "draw_pixel_distribution('Test', np.concatenate(x_test).flatten())"
   ]
  },
  {
   "cell_type": "code",
   "execution_count": null,
   "id": "5b54ebfe",
   "metadata": {},
   "outputs": [],
   "source": []
  }
 ],
 "metadata": {
  "kernelspec": {
   "display_name": "Python 3 (ipykernel)",
   "language": "python",
   "name": "python3"
  },
  "language_info": {
   "codemirror_mode": {
    "name": "ipython",
    "version": 3
   },
   "file_extension": ".py",
   "mimetype": "text/x-python",
   "name": "python",
   "nbconvert_exporter": "python",
   "pygments_lexer": "ipython3",
   "version": "3.10.9"
  }
 },
 "nbformat": 4,
 "nbformat_minor": 5
}
