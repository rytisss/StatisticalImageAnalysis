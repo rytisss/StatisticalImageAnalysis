{
 "cells": [
  {
   "cell_type": "code",
   "execution_count": null,
   "id": "97626bf4",
   "metadata": {},
   "outputs": [],
   "source": [
    "# Notes from where data is taken\n",
    "# CIFAR-10 - https://www.kaggle.com/competitions/cifar-10/data\n",
    "# MNIST - https://www.kaggle.com/datasets/hojjatk/mnist-dataset\n",
    "# GTSRB (road signs) - https://www.kaggle.com/datasets/meowmeowmeowmeowmeow/gtsrb-german-traffic-sign/\n",
    "# Imagenette (10 classes from ImageNet) - https://github.com/fastai/imagenette#imagenette-1"
   ]
  },
  {
   "cell_type": "code",
   "execution_count": null,
   "id": "cda97088",
   "metadata": {},
   "outputs": [],
   "source": [
    "# CIFAR-10 statistics"
   ]
  }
 ],
 "metadata": {
  "kernelspec": {
   "display_name": "Python 3 (ipykernel)",
   "language": "python",
   "name": "python3"
  },
  "language_info": {
   "codemirror_mode": {
    "name": "ipython",
    "version": 3
   },
   "file_extension": ".py",
   "mimetype": "text/x-python",
   "name": "python",
   "nbconvert_exporter": "python",
   "pygments_lexer": "ipython3",
   "version": "3.10.9"
  }
 },
 "nbformat": 4,
 "nbformat_minor": 5
}
